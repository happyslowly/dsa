{
 "cells": [
  {
   "cell_type": "markdown",
   "metadata": {},
   "source": [
    "# Data Structures and Algorithms - Basic"
   ]
  },
  {
   "cell_type": "code",
   "execution_count": 5,
   "metadata": {},
   "outputs": [],
   "source": [
    "import ipytest\n",
    "import pytest\n",
    "\n",
    "ipytest.autoconfig()"
   ]
  },
  {
   "cell_type": "markdown",
   "metadata": {},
   "source": [
    "## Sorting"
   ]
  },
  {
   "cell_type": "markdown",
   "metadata": {},
   "source": [
    "### Selection Sort\n",
    "| Stable(?) | Time | Space |\n",
    "|----------|----------|----------|\n",
    "| N | $O(n^2)$ | $O(1)$ |"
   ]
  },
  {
   "cell_type": "code",
   "execution_count": 8,
   "metadata": {},
   "outputs": [
    {
     "name": "stdout",
     "output_type": "stream",
     "text": [
      "\u001b[32m.\u001b[0m\u001b[32m                                                                                            [100%]\u001b[0m\n",
      "\u001b[32m\u001b[32m\u001b[1m1 passed\u001b[0m\u001b[32m in 0.01s\u001b[0m\u001b[0m\n"
     ]
    }
   ],
   "source": [
    "%%ipytest\n",
    "\n",
    "\n",
    "def selection_sort(arr):\n",
    "    for i in range(len(arr)):\n",
    "        min_idx = i\n",
    "        for j in range(i + 1, len(arr)):\n",
    "            if arr[j] < arr[min_idx]:\n",
    "                min_idx = j\n",
    "        if min_idx != i:\n",
    "            arr[i], arr[min_idx] = arr[min_idx], arr[i]\n",
    "\n",
    "\n",
    "def test_selection_sort():\n",
    "    arr = [64, 34, 25, 12, 22, 11, 90]\n",
    "    selection_sort(arr)\n",
    "    assert arr == [11, 12, 22, 25, 34, 64, 90]"
   ]
  },
  {
   "cell_type": "markdown",
   "metadata": {},
   "source": [
    "### Bubble Sort\n",
    "| Stable(?) | Time | Space |\n",
    "|----------|----------|----------|\n",
    "| Y | $O(n^2)$ | $O(1)$ |"
   ]
  },
  {
   "cell_type": "code",
   "execution_count": 9,
   "metadata": {},
   "outputs": [
    {
     "name": "stdout",
     "output_type": "stream",
     "text": [
      "\u001b[32m.\u001b[0m\u001b[32m                                                                                            [100%]\u001b[0m\n",
      "\u001b[32m\u001b[32m\u001b[1m1 passed\u001b[0m\u001b[32m in 0.00s\u001b[0m\u001b[0m\n"
     ]
    }
   ],
   "source": [
    "%%ipytest\n",
    "\n",
    "\n",
    "def bubble_sort(arr):\n",
    "    for i in range(len(arr)):\n",
    "        swapped = False\n",
    "        for j in range(len(arr) - i - 1):\n",
    "            if arr[j] > arr[j + 1]:\n",
    "                arr[j], arr[j + 1] = arr[j + 1], arr[j]\n",
    "                swapped = True\n",
    "        if not swapped:\n",
    "            break\n",
    "\n",
    "\n",
    "def test_bubble_sort():\n",
    "    arr = [64, 34, 25, 12, 22, 11, 90]\n",
    "    bubble_sort(arr)\n",
    "    assert arr == [11, 12, 22, 25, 34, 64, 90]"
   ]
  },
  {
   "cell_type": "markdown",
   "metadata": {},
   "source": [
    "### Insertion Sort\n",
    "| Stable(?) | Time | Space |\n",
    "|----------|----------|----------|\n",
    "| Y | $O(n^2)$ | $O(1)$ |"
   ]
  },
  {
   "cell_type": "code",
   "execution_count": 10,
   "metadata": {},
   "outputs": [
    {
     "name": "stdout",
     "output_type": "stream",
     "text": [
      "\u001b[32m.\u001b[0m\u001b[32m                                                                                            [100%]\u001b[0m\n",
      "\u001b[32m\u001b[32m\u001b[1m1 passed\u001b[0m\u001b[32m in 0.00s\u001b[0m\u001b[0m\n"
     ]
    }
   ],
   "source": [
    "%%ipytest\n",
    "\n",
    "\n",
    "def insertion_sort(arr):\n",
    "    for i in range(1, len(arr)):\n",
    "        key = arr[i]\n",
    "        j = i - 1\n",
    "        while j >= 0 and arr[j] > key:\n",
    "            arr[j + 1] = arr[j]\n",
    "            j -= 1\n",
    "        arr[j + 1] = key\n",
    "\n",
    "\n",
    "def test_insertion_sort():\n",
    "    arr = [64, 34, 25, 12, 22, 11, 90]\n",
    "    insertion_sort(arr)\n",
    "    assert arr == [11, 12, 22, 25, 34, 64, 90]"
   ]
  },
  {
   "cell_type": "markdown",
   "metadata": {},
   "source": [
    "### Merge Sort\n",
    "| Stable(?) | Time | Space |\n",
    "|----------|----------|----------|\n",
    "| Y | $O(n \\log n)$ | $O(n)$ |"
   ]
  },
  {
   "cell_type": "code",
   "execution_count": 11,
   "metadata": {},
   "outputs": [
    {
     "name": "stdout",
     "output_type": "stream",
     "text": [
      "\u001b[32m.\u001b[0m\u001b[32m                                                                                            [100%]\u001b[0m\n",
      "\u001b[32m\u001b[32m\u001b[1m1 passed\u001b[0m\u001b[32m in 0.00s\u001b[0m\u001b[0m\n"
     ]
    }
   ],
   "source": [
    "%%ipytest\n",
    "\n",
    "\n",
    "def merge_sort(arr):\n",
    "    if len(arr) <= 1:\n",
    "        return\n",
    "    m = len(arr) // 2\n",
    "    left = arr[:m]\n",
    "    right = arr[m:]\n",
    "    merge_sort(left)\n",
    "    merge_sort(right)\n",
    "\n",
    "    i, j, k = 0, 0, 0\n",
    "    while i < len(left) and j < len(right):\n",
    "        if left[i] <= right[j]:\n",
    "            arr[k] = left[i]\n",
    "            i += 1\n",
    "        else:\n",
    "            arr[k] = right[j]\n",
    "            j += 1\n",
    "        k += 1\n",
    "    while i < len(left):\n",
    "        arr[k] = left[i]\n",
    "        i += 1\n",
    "        k += 1\n",
    "    while j < len(right):\n",
    "        arr[k] = right[j]\n",
    "        j += 1\n",
    "        k += 1\n",
    "\n",
    "\n",
    "def test_merge_sort():\n",
    "    arr = [64, 34, 25, 12, 22, 11, 90]\n",
    "    merge_sort(arr)\n",
    "    assert arr == [11, 12, 22, 25, 34, 64, 90]"
   ]
  },
  {
   "cell_type": "markdown",
   "metadata": {},
   "source": [
    "#### Smaller Sum Problem"
   ]
  },
  {
   "cell_type": "code",
   "execution_count": 18,
   "metadata": {},
   "outputs": [
    {
     "name": "stdout",
     "output_type": "stream",
     "text": [
      "\u001b[32m.\u001b[0m\u001b[32m                                                                                            [100%]\u001b[0m\n",
      "\u001b[32m\u001b[32m\u001b[1m1 passed\u001b[0m\u001b[32m in 0.00s\u001b[0m\u001b[0m\n"
     ]
    }
   ],
   "source": [
    "%%ipytest\n",
    "\n",
    "\n",
    "def compute_smaller_sum(arr):\n",
    "    s = 0\n",
    "    if len(arr) <= 1:\n",
    "        return s\n",
    "    m = len(arr) // 2\n",
    "    left = arr[:m]\n",
    "    right = arr[m:]\n",
    "    s += small_sum(left)\n",
    "    s += small_sum(right)\n",
    "\n",
    "    i, j, k = 0, 0, 0\n",
    "    while i < len(left) and j < len(right):\n",
    "        if left[i] < right[j]:\n",
    "            s += left[i] * (len(right) - j)\n",
    "            arr[k] = left[i]\n",
    "            i += 1\n",
    "        else:\n",
    "            arr[k] = right[j]\n",
    "            j += 1\n",
    "        k += 1\n",
    "    while i < len(left):\n",
    "        arr[k] = left[i]\n",
    "        i += 1\n",
    "        k += 1\n",
    "    while j < len(right):\n",
    "        arr[k] = right[j]\n",
    "        j += 1\n",
    "        k += 1\n",
    "\n",
    "    return s\n",
    "\n",
    "\n",
    "def test_compute_small_sum():\n",
    "    arr = [2, 4, 5, 1, 7, 3]\n",
    "    s = compute_smaller_sum(arr)\n",
    "    assert s == 23"
   ]
  },
  {
   "cell_type": "markdown",
   "metadata": {},
   "source": [
    "#### Inversion Pair Problem"
   ]
  },
  {
   "cell_type": "code",
   "execution_count": 20,
   "metadata": {},
   "outputs": [
    {
     "name": "stdout",
     "output_type": "stream",
     "text": [
      "\u001b[32m.\u001b[0m\u001b[32m                                                                                            [100%]\u001b[0m\n",
      "\u001b[32m\u001b[32m\u001b[1m1 passed\u001b[0m\u001b[32m in 0.00s\u001b[0m\u001b[0m\n"
     ]
    }
   ],
   "source": [
    "%%ipytest\n",
    "\n",
    "\n",
    "def count_inversion_pairs(arr):\n",
    "    if len(arr) <= 1:\n",
    "        return 0\n",
    "    count = 0\n",
    "    m = len(arr) // 2\n",
    "    left = arr[:m]\n",
    "    right = arr[m:]\n",
    "    count += count_inversion_pairs(left)\n",
    "    count += count_inversion_pairs(right)\n",
    "\n",
    "    i, j, k = 0, 0, 0\n",
    "    while i < len(left) and j < len(right):\n",
    "        if left[i] > right[j]:\n",
    "            arr[k] = right[j]\n",
    "            j += 1\n",
    "            count += len(left) - i\n",
    "        else:\n",
    "            arr[k] = left[i]\n",
    "            i += 1\n",
    "        k += 1\n",
    "    while i < len(left):\n",
    "        arr[k] = left[i]\n",
    "        i += 1\n",
    "        k += 1\n",
    "    while j < len(right):\n",
    "        arr[k] = right[j]\n",
    "        j += 1\n",
    "        k += 1\n",
    "\n",
    "    return count\n",
    "\n",
    "\n",
    "def test_count_inversion_pairs():\n",
    "    arr = [9, 7, 5, 4, 6]\n",
    "    count = count_inversion_pairs(arr)\n",
    "    assert count == 8"
   ]
  },
  {
   "cell_type": "markdown",
   "metadata": {},
   "source": [
    "### Heap And Heap Sort"
   ]
  },
  {
   "cell_type": "markdown",
   "metadata": {},
   "source": [
    "#### Heap"
   ]
  },
  {
   "cell_type": "code",
   "execution_count": 29,
   "metadata": {},
   "outputs": [
    {
     "name": "stdout",
     "output_type": "stream",
     "text": [
      "\u001b[32m.\u001b[0m\u001b[32m.\u001b[0m\u001b[32m.\u001b[0m\u001b[32m.\u001b[0m\u001b[32m.\u001b[0m\u001b[32m.\u001b[0m\u001b[32m.\u001b[0m\u001b[32m                                                                                      [100%]\u001b[0m\n",
      "\u001b[32m\u001b[32m\u001b[1m7 passed\u001b[0m\u001b[32m in 0.01s\u001b[0m\u001b[0m\n"
     ]
    }
   ],
   "source": [
    "%%ipytest\n",
    "\n",
    "\n",
    "class Heap:\n",
    "    def __init__(self, arr=None, heap_type=\"min\"):\n",
    "        self._heap_type = heap_type\n",
    "        if arr:\n",
    "            self._size = len(arr)\n",
    "            self._heap = arr\n",
    "            for i in range(self._size // 2 - 1, -1, -1):\n",
    "                self.down(i)\n",
    "        else:\n",
    "            self._size = 0\n",
    "            self._heap = []\n",
    "\n",
    "    @staticmethod\n",
    "    def parent(i):\n",
    "        return (i - 1) // 2\n",
    "\n",
    "    @staticmethod\n",
    "    def left(i):\n",
    "        return 2 * i + 1\n",
    "\n",
    "    @staticmethod\n",
    "    def right(i):\n",
    "        return 2 * i + 2\n",
    "\n",
    "    def swap(self, i, j):\n",
    "        self._heap[i], self._heap[j] = self._heap[j], self._heap[i]\n",
    "\n",
    "    def compare(self, i, j):\n",
    "        if self._heap_type == \"min\":\n",
    "            return self._heap[i] < self._heap[j]\n",
    "        else:\n",
    "            return self._heap[i] > self._heap[j]\n",
    "\n",
    "    def push(self, k):\n",
    "        if len(self._heap) == self._size:\n",
    "            self._heap.append(k)\n",
    "        else:\n",
    "            self._heap[self._size] = k\n",
    "        self.up(self._size)\n",
    "        self._size += 1\n",
    "\n",
    "    def pop(self):\n",
    "        if self._size == 0:\n",
    "            return None\n",
    "        top = self._heap[0]\n",
    "        self._size -= 1\n",
    "        self._heap[0] = self._heap[self._size]\n",
    "        self.down(0)\n",
    "        return top\n",
    "\n",
    "    def up(self, i):\n",
    "        while i > 0:\n",
    "            p = Heap.parent(i)\n",
    "            if self.compare(i, p):\n",
    "                self.swap(i, p)\n",
    "            else:\n",
    "                break\n",
    "            i = p\n",
    "\n",
    "    def down(self, p):\n",
    "        while p < self._size:\n",
    "            idx = p\n",
    "            l, r = Heap.left(p), Heap.right(p)\n",
    "            if l < self._size and self.compare(l, idx):\n",
    "                idx = l\n",
    "            if r < self._size and self.compare(r, idx):\n",
    "                idx = r\n",
    "            if idx == p:\n",
    "                break\n",
    "            self.swap(p, idx)\n",
    "            p = idx\n",
    "\n",
    "\n",
    "@pytest.fixture\n",
    "def heap():\n",
    "    return Heap()\n",
    "\n",
    "\n",
    "def test_push_single_element(heap):\n",
    "    heap.push(10)\n",
    "    assert heap._heap[0] == 10\n",
    "    assert heap._size == 1\n",
    "\n",
    "\n",
    "def test_push_multiple_elements(heap):\n",
    "    elements = [5, 3, 8, 1, 9, 2]\n",
    "    for el in elements:\n",
    "        heap.push(el)\n",
    "\n",
    "    assert heap._heap[0] == min(elements)\n",
    "    assert heap._size == len(elements)\n",
    "\n",
    "\n",
    "def test_pop_single_element(heap):\n",
    "    heap.push(10)\n",
    "    assert heap.pop() == 10\n",
    "    assert heap._size == 0\n",
    "\n",
    "\n",
    "def test_pop_multiple_elements(heap):\n",
    "    elements = [5, 3, 8, 1, 9, 2]\n",
    "    for el in elements:\n",
    "        heap.push(el)\n",
    "\n",
    "    sorted_elements = sorted(elements)\n",
    "    for expected in sorted_elements:\n",
    "        assert heap.pop() == expected\n",
    "\n",
    "    assert heap._size == 0\n",
    "\n",
    "\n",
    "def test_heap_property(heap):\n",
    "    elements = [10, 4, 7, 1, 3, 5, 9]\n",
    "    for el in elements:\n",
    "        heap.push(el)\n",
    "\n",
    "    sorted_elements = []\n",
    "    while heap._size > 0:\n",
    "        sorted_elements.append(heap.pop())\n",
    "\n",
    "    assert sorted_elements == sorted(elements)\n",
    "\n",
    "\n",
    "def test_pop_empty_heap(heap):\n",
    "    assert heap.pop() is None\n",
    "\n",
    "\n",
    "def test_mixed_operations(heap):\n",
    "    operations = [\n",
    "        (heap.push, 5),\n",
    "        (heap.push, 3),\n",
    "        (heap.push, 8),\n",
    "        (heap.pop, None),\n",
    "        (heap.push, 1),\n",
    "        (heap.pop, None),\n",
    "    ]\n",
    "    results = []\n",
    "\n",
    "    for op, val in operations:\n",
    "        if val is not None:\n",
    "            op(val)\n",
    "        else:\n",
    "            results.append(op())\n",
    "\n",
    "    assert results == [3, 1]"
   ]
  },
  {
   "cell_type": "markdown",
   "metadata": {},
   "source": [
    "#### Heap Sort\n",
    "| Stable(?) | Time | Space |\n",
    "|----------|----------|----------|\n",
    "| N | $O(n \\log n)$ | $O(1)$ |"
   ]
  },
  {
   "cell_type": "code",
   "execution_count": 32,
   "metadata": {},
   "outputs": [
    {
     "name": "stdout",
     "output_type": "stream",
     "text": [
      "\u001b[32m.\u001b[0m\u001b[32m                                                                                            [100%]\u001b[0m\n",
      "\u001b[32m\u001b[32m\u001b[1m1 passed\u001b[0m\u001b[32m in 0.00s\u001b[0m\u001b[0m\n"
     ]
    }
   ],
   "source": [
    "%%ipytest\n",
    "\n",
    "\n",
    "def heap_sort(arr):\n",
    "    heap = Heap(heap_type=\"max\", arr=arr)\n",
    "    i = 0\n",
    "    while heap._size > 1:\n",
    "        heap._size -= 1\n",
    "        heap._heap[0], heap._heap[heap._size] = heap._heap[heap._size], heap._heap[0]\n",
    "        heap.down(0)\n",
    "\n",
    "\n",
    "def test_heap_sort():\n",
    "    arr = [64, 34, 25, 12, 22, 11, 90]\n",
    "    heap_sort(arr)\n",
    "    assert arr == [11, 12, 22, 25, 34, 64, 90]"
   ]
  },
  {
   "cell_type": "markdown",
   "metadata": {},
   "source": [
    "### Quick Sort\n",
    "| Stable(?) | Time | Space |\n",
    "|----------|----------|----------|\n",
    "| N | $O(n \\log n)$ | $O(\\log n)$ |"
   ]
  },
  {
   "cell_type": "code",
   "execution_count": 12,
   "metadata": {},
   "outputs": [
    {
     "name": "stdout",
     "output_type": "stream",
     "text": [
      "\u001b[32m.\u001b[0m\u001b[32m                                                                                            [100%]\u001b[0m\n",
      "\u001b[32m\u001b[32m\u001b[1m1 passed\u001b[0m\u001b[32m in 0.00s\u001b[0m\u001b[0m\n"
     ]
    }
   ],
   "source": [
    "%%ipytest\n",
    "\n",
    "import random\n",
    "\n",
    "\n",
    "def quick_sort(arr):\n",
    "\n",
    "    def _sort(l, r):\n",
    "        if l + 1 < r:\n",
    "            p, q = _partition(l, r)\n",
    "            print(arr, p, q)\n",
    "            _sort(l, p + 1)\n",
    "            _sort(q, r)\n",
    "\n",
    "    def _partition(l, r):\n",
    "        pivot_idx = random.randrange(l, r)\n",
    "        arr[pivot_idx], arr[l] = arr[l], arr[pivot_idx]\n",
    "        pivot = arr[l]\n",
    "        lt, gt = l - 1, r\n",
    "        i = l\n",
    "        while i < gt:\n",
    "            if arr[i] == pivot:\n",
    "                i += 1\n",
    "            elif arr[i] < pivot:\n",
    "                lt += 1\n",
    "                arr[i], arr[lt] = arr[lt], arr[i]\n",
    "                i += 1\n",
    "            else:\n",
    "                gt -= 1\n",
    "                arr[i], arr[gt] = arr[gt], arr[i]\n",
    "        return lt, gt\n",
    "\n",
    "    _sort(0, len(arr))\n",
    "\n",
    "\n",
    "def test_quick_sort():\n",
    "    arr = [64, 34, 25, 12, 22, 11, 90]\n",
    "    quick_sort(arr)\n",
    "    assert arr == [11, 12, 22, 25, 34, 64, 90]"
   ]
  },
  {
   "cell_type": "markdown",
   "metadata": {},
   "source": [
    "### Radix Sort\n",
    "| Stable(?) | Time | Space |\n",
    "|----------|----------|----------|\n",
    "| Y | $O(n)$ | $O(n)$ |"
   ]
  },
  {
   "cell_type": "code",
   "execution_count": 53,
   "metadata": {},
   "outputs": [
    {
     "name": "stdout",
     "output_type": "stream",
     "text": [
      "\u001b[32m.\u001b[0m\u001b[32m                                                                                            [100%]\u001b[0m\n",
      "\u001b[32m\u001b[32m\u001b[1m1 passed\u001b[0m\u001b[32m in 0.01s\u001b[0m\u001b[0m\n"
     ]
    }
   ],
   "source": [
    "%%ipytest\n",
    "\n",
    "\n",
    "def radix_sort(arr):\n",
    "    m = max(arr)\n",
    "    digits = len(str(m))\n",
    "    e = 1\n",
    "    for _ in range(digits):\n",
    "        counts = [0] * 10\n",
    "        temp = [0] * len(arr)\n",
    "        for n in arr:\n",
    "            d = n // e % 10\n",
    "            counts[d] += 1\n",
    "        for i in range(1, 10):\n",
    "            counts[i] += counts[i - 1]\n",
    "        for i in range(len(arr) - 1, -1, -1):\n",
    "            d = arr[i] // e % 10\n",
    "            temp[counts[d] - 1] = arr[i]\n",
    "            counts[d] -= 1\n",
    "        for i in range(len(arr)):\n",
    "            arr[i] = temp[i]\n",
    "        e *= 10\n",
    "\n",
    "\n",
    "def test_radix_sort():\n",
    "    arr = [64, 34, 25, 12, 22, 11, 90]\n",
    "    radix_sort(arr)\n",
    "    assert arr == [11, 12, 22, 25, 34, 64, 90]"
   ]
  },
  {
   "cell_type": "markdown",
   "metadata": {
    "jp-MarkdownHeadingCollapsed": true
   },
   "source": [
    "### Master Theorem\n",
    "\n",
    "$$\n",
    "T(n) = aT\\left(\\frac{n}{b}\\right) + O(n^d)\n",
    "$$\n",
    "\n",
    "Where:\n",
    "- $a \\geq 1$ is the number of subproblems,\n",
    "- $b > 1$ is the factor by which the problem size is divided,\n",
    "- $d \\geq 0$ is the exponent of the cost outside the recursive calls.\n",
    "\n",
    "The solution to this recurrence is based on comparing $n^d$ (the cost of the work done outside the recursive calls) with $n^{\\log_b a}$ (the cost of the recursive work). There are three cases:\n",
    "\n",
    "#### Case 1: $\\log_b a > d$\n",
    "- **Work is dominated by recursive calls**.\n",
    "- Solution: \n",
    "\n",
    "$$\n",
    "T(n) = O(n^{\\log_b a})\n",
    "$$\n",
    "\n",
    "#### Case 2: $\\log_b a = d$\n",
    "- **Work is evenly balanced between the recursive calls and the work outside**.\n",
    "- Solution: \n",
    "\n",
    "$$\n",
    "T(n) = O(n^d \\log n)\n",
    "$$\n",
    "\n",
    "#### Case 3: $\\log_b a < d$\n",
    "- **Work is dominated by the cost outside the recursive calls**.\n",
    "- Solution: \n",
    "\n",
    "$$\n",
    "T(n) = O(n^d)\n",
    "$$\n"
   ]
  },
  {
   "cell_type": "markdown",
   "metadata": {},
   "source": [
    "## XOR"
   ]
  },
  {
   "cell_type": "markdown",
   "metadata": {},
   "source": [
    "### Find Two Unique Numbers"
   ]
  },
  {
   "cell_type": "code",
   "execution_count": 5,
   "metadata": {},
   "outputs": [
    {
     "name": "stdout",
     "output_type": "stream",
     "text": [
      "\u001b[32m.\u001b[0m\u001b[32m                                                                                            [100%]\u001b[0m\n",
      "\u001b[32m\u001b[32m\u001b[1m1 passed\u001b[0m\u001b[32m in 0.01s\u001b[0m\u001b[0m\n"
     ]
    }
   ],
   "source": [
    "%%ipytest\n",
    "\n",
    "\n",
    "def find_numbers(arr):\n",
    "    xor = 0\n",
    "    for n in arr:\n",
    "        xor ^= n\n",
    "    right_one = xor & -xor\n",
    "    x = 0\n",
    "    for n in arr:\n",
    "        if n & right_one:\n",
    "            x ^= n\n",
    "    return x, x ^ xor\n",
    "\n",
    "\n",
    "def test_find_numbers():\n",
    "    arr = [1, 2, 3, 2, 1, 4]\n",
    "    a, b = find_numbers(arr)\n",
    "    assert a == 3\n",
    "    assert b == 4"
   ]
  },
  {
   "cell_type": "markdown",
   "metadata": {
    "slideshow": {
     "slide_type": ""
    },
    "tags": []
   },
   "source": [
    "## Binary Search"
   ]
  },
  {
   "cell_type": "code",
   "execution_count": 6,
   "metadata": {},
   "outputs": [
    {
     "name": "stdout",
     "output_type": "stream",
     "text": [
      "\u001b[32m.\u001b[0m\u001b[32m                                                                                            [100%]\u001b[0m\n",
      "\u001b[32m\u001b[32m\u001b[1m1 passed\u001b[0m\u001b[32m in 0.01s\u001b[0m\u001b[0m\n"
     ]
    }
   ],
   "source": [
    "%%ipytest\n",
    "\n",
    "\n",
    "def binary_search(arr, key):\n",
    "    l, r = 0, len(arr) - 1\n",
    "    while l <= r:\n",
    "        m = (l + r) // 2\n",
    "        if arr[m] == key:\n",
    "            return m\n",
    "        if arr[m] > key:\n",
    "            r = m - 1\n",
    "        else:\n",
    "            l = m + 1\n",
    "    return -1\n",
    "\n",
    "\n",
    "def test_binary_search():\n",
    "    arr = [10, 20, 30, 40, 50]\n",
    "    assert binary_search(arr, 30) == 2\n",
    "    assert binary_search(arr, 15) == -1"
   ]
  },
  {
   "cell_type": "markdown",
   "metadata": {},
   "source": [
    "### Find Local Minimum"
   ]
  },
  {
   "cell_type": "code",
   "execution_count": 7,
   "metadata": {},
   "outputs": [
    {
     "name": "stdout",
     "output_type": "stream",
     "text": [
      "\u001b[32m.\u001b[0m\u001b[32m                                                                                            [100%]\u001b[0m\n",
      "\u001b[32m\u001b[32m\u001b[1m1 passed\u001b[0m\u001b[32m in 0.01s\u001b[0m\u001b[0m\n"
     ]
    }
   ],
   "source": [
    "%%ipytest\n",
    "\n",
    "\n",
    "def find_local_min(arr):\n",
    "    n = len(arr)\n",
    "    if n == 1 or arr[0] < arr[1]:\n",
    "        return 0\n",
    "    if arr[n - 1] < arr[n - 2]:\n",
    "        return n - 1\n",
    "\n",
    "    l, r = 0, len(arr) - 1\n",
    "    while l <= r:\n",
    "        m = (l + r) // 2\n",
    "        if arr[m - 1] > arr[m] < arr[m + 1]:\n",
    "            return m\n",
    "        if arr[m - 1] < arr[m]:\n",
    "            r = m - 1\n",
    "        else:\n",
    "            l = m + 1\n",
    "\n",
    "\n",
    "def test_find_local_min():\n",
    "    arr1 = [6, 5, 4, 7, 8, 9]\n",
    "    arr2 = [5, 6, 1, 2, 3, 4, 5, 6]\n",
    "    assert find_local_min(arr1) == 2\n",
    "    assert find_local_min(arr2) == 0"
   ]
  },
  {
   "cell_type": "markdown",
   "metadata": {},
   "source": [
    "## Linked List"
   ]
  },
  {
   "cell_type": "code",
   "execution_count": 56,
   "metadata": {},
   "outputs": [],
   "source": [
    "class ListNode:\n",
    "    def __init__(self, value):\n",
    "        self.value = value\n",
    "        self.next = None\n",
    "\n",
    "\n",
    "def create_linked_list(values):\n",
    "    if not values:\n",
    "        return None\n",
    "    head = ListNode(values[0])\n",
    "    current = head\n",
    "    for value in values[1:]:\n",
    "        current.next = ListNode(value)\n",
    "        current = current.next\n",
    "    return head\n",
    "\n",
    "\n",
    "def linked_list_to_list(head):\n",
    "    result = []\n",
    "    current = head\n",
    "    while current:\n",
    "        result.append(current.value)\n",
    "        current = current.next\n",
    "    return result"
   ]
  },
  {
   "cell_type": "markdown",
   "metadata": {},
   "source": [
    "### Reverse a linked list"
   ]
  },
  {
   "cell_type": "code",
   "execution_count": 57,
   "metadata": {},
   "outputs": [
    {
     "name": "stdout",
     "output_type": "stream",
     "text": [
      "\u001b[32m.\u001b[0m\u001b[32m                                                                                            [100%]\u001b[0m\n",
      "\u001b[32m\u001b[32m\u001b[1m1 passed\u001b[0m\u001b[32m in 0.01s\u001b[0m\u001b[0m\n"
     ]
    }
   ],
   "source": [
    "%%ipytest\n",
    "\n",
    "\n",
    "def reverse(head):\n",
    "    prev, curr = None, head\n",
    "    while curr:\n",
    "        nxt = curr.next\n",
    "        curr.next = prev\n",
    "        prev = curr\n",
    "        curr = nxt\n",
    "    return prev\n",
    "\n",
    "\n",
    "def test_reverse():\n",
    "    head = create_linked_list([1, 2, 3, 4, 5])\n",
    "    reversed_list = reverse(head)\n",
    "    assert linked_list_to_list(reversed_list) == [5, 4, 3, 2, 1]"
   ]
  },
  {
   "cell_type": "markdown",
   "metadata": {},
   "source": [
    "### Floyd's Cycle Finding Algorithm"
   ]
  },
  {
   "cell_type": "code",
   "execution_count": 69,
   "metadata": {},
   "outputs": [
    {
     "name": "stdout",
     "output_type": "stream",
     "text": [
      "\u001b[32m.\u001b[0m\u001b[32m                                                                                            [100%]\u001b[0m\n",
      "\u001b[32m\u001b[32m\u001b[1m1 passed\u001b[0m\u001b[32m in 0.01s\u001b[0m\u001b[0m\n"
     ]
    }
   ],
   "source": [
    "%%ipytest\n",
    "\n",
    "\n",
    "def has_cycle(head):\n",
    "    slow, fast = head, head\n",
    "    while fast and fast.next:\n",
    "        slow = slow.next\n",
    "        fast = fast.next.next\n",
    "        if slow == fast:\n",
    "            return True\n",
    "    return False\n",
    "\n",
    "\n",
    "def create_linked_list_with_cycle(values, cycle_pos=-1):\n",
    "    if not values:\n",
    "        return None\n",
    "\n",
    "    # Create nodes\n",
    "    head = ListNode(values[0])\n",
    "    current = head\n",
    "    nodes = [head]\n",
    "\n",
    "    # Create the rest of the list\n",
    "    for val in values[1:]:\n",
    "        current.next = ListNode(val)\n",
    "        current = current.next\n",
    "        nodes.append(current)\n",
    "\n",
    "    # Create cycle if specified\n",
    "    if cycle_pos >= 0 and cycle_pos < len(nodes):\n",
    "        current.next = nodes[cycle_pos]\n",
    "\n",
    "    return head\n",
    "\n",
    "\n",
    "def test_cycle_in_list():\n",
    "    head = create_linked_list_with_cycle([1, 2, 3, 4, 5], 0)\n",
    "    assert has_cycle(head)"
   ]
  },
  {
   "cell_type": "markdown",
   "metadata": {},
   "source": [
    "### Palindrome"
   ]
  },
  {
   "cell_type": "code",
   "execution_count": 71,
   "metadata": {},
   "outputs": [
    {
     "name": "stdout",
     "output_type": "stream",
     "text": [
      "\u001b[32m.\u001b[0m\u001b[32m                                                                                            [100%]\u001b[0m\n",
      "\u001b[32m\u001b[32m\u001b[1m1 passed\u001b[0m\u001b[32m in 0.01s\u001b[0m\u001b[0m\n"
     ]
    }
   ],
   "source": [
    "%%ipytest\n",
    "\n",
    "\n",
    "def is_palindrome(head):\n",
    "    if not head or not head.next:\n",
    "        return True\n",
    "    slow, fast = head, head.next\n",
    "    while fast and fast.next:\n",
    "        slow = slow.next\n",
    "        fast = fast.next.next\n",
    "    middle = slow.next\n",
    "    slow.next = None\n",
    "    rev = reverse(middle)\n",
    "    p, q = head, rev\n",
    "    res = True\n",
    "    while p and q:\n",
    "        if p.value != q.value:\n",
    "            res = False\n",
    "            break\n",
    "        p = p.next\n",
    "        q = q.next\n",
    "    slow.next = reverse(rev)\n",
    "    return res\n",
    "\n",
    "\n",
    "def test_is_palindrome():\n",
    "    head1 = create_linked_list([1, 2, 3, 3, 2, 1])\n",
    "    head2 = create_linked_list([1, 2, 3, 5, 3, 2, 1])\n",
    "    assert is_palindrome(head1)\n",
    "    assert is_palindrome(head2)"
   ]
  },
  {
   "cell_type": "markdown",
   "metadata": {},
   "source": [
    "## Hash Table"
   ]
  },
  {
   "cell_type": "markdown",
   "metadata": {},
   "source": [
    "## Binary Tree"
   ]
  },
  {
   "cell_type": "code",
   "execution_count": 2,
   "metadata": {},
   "outputs": [],
   "source": [
    "class BinaryTreeNode:\n",
    "    def __init__(self, value):\n",
    "        self.value = value\n",
    "        self.left = None\n",
    "        self.right = None\n",
    "\n",
    "\n",
    "def create_tree(values):\n",
    "    if not values:\n",
    "        return None\n",
    "\n",
    "    nodes = [BinaryTreeNode(val) if val is not None else None for val in values]\n",
    "\n",
    "    for i in range(len(nodes)):\n",
    "        if nodes[i] is not None:\n",
    "            left_idx = 2 * i + 1\n",
    "            right_idx = 2 * i + 2\n",
    "\n",
    "            if left_idx < len(nodes):\n",
    "                nodes[i].left = nodes[left_idx]\n",
    "            if right_idx < len(nodes):\n",
    "                nodes[i].right = nodes[right_idx]\n",
    "\n",
    "    return nodes[0] if nodes else None\n",
    "\n",
    "\n",
    "def plot_tree(root):\n",
    "    \"\"\"\n",
    "    Draws a binary tree using matplotlib and networkx.\n",
    "\n",
    "    Parameters:\n",
    "    root (TreeNode): The root of the binary tree.\n",
    "    \"\"\"\n",
    "\n",
    "    if not root:\n",
    "        print(\"Tree is empty\")\n",
    "        return\n",
    "\n",
    "    # Initialize a directed graph\n",
    "    G = nx.DiGraph()\n",
    "\n",
    "    # A recursive helper function to add nodes and edges\n",
    "    def add_edges(node, pos={}, x=0, y=0, layer=1, width=2):\n",
    "        if not node:\n",
    "            return\n",
    "\n",
    "        # Add the current node to the graph\n",
    "        G.add_node(node.value, pos=(x, y))\n",
    "\n",
    "        # Calculate new width for the child nodes\n",
    "        new_width = width / 2\n",
    "\n",
    "        # Add the left child\n",
    "        if node.left:\n",
    "            G.add_edge(node.value, node.left.value)\n",
    "            pos[node.left.value] = (x - new_width, y - 1)\n",
    "            add_edges(node.left, pos, x - new_width, y - 1, layer + 1, new_width)\n",
    "\n",
    "        # Add the right child\n",
    "        if node.right:\n",
    "            G.add_edge(node.value, node.right.value)\n",
    "            pos[node.right.value] = (x + new_width, y - 1)\n",
    "            add_edges(node.right, pos, x + new_width, y - 1, layer + 1, new_width)\n",
    "\n",
    "        return pos\n",
    "\n",
    "    # Recursively build the tree graph\n",
    "    pos = add_edges(root)\n",
    "\n",
    "    # Get the positions of the nodes\n",
    "    node_pos = nx.get_node_attributes(G, \"pos\")\n",
    "\n",
    "    # Draw the nodes and edges\n",
    "    plt.figure(figsize=(10, 8))\n",
    "    nx.draw(\n",
    "        G,\n",
    "        pos=node_pos,\n",
    "        with_labels=True,\n",
    "        node_size=2000,\n",
    "        node_color=\"lightblue\",\n",
    "        font_size=10,\n",
    "        font_weight=\"bold\",\n",
    "        arrows=False,\n",
    "    )\n",
    "    plt.show()"
   ]
  },
  {
   "cell_type": "markdown",
   "metadata": {},
   "source": [
    "### Traversal"
   ]
  },
  {
   "cell_type": "code",
   "execution_count": 18,
   "metadata": {},
   "outputs": [
    {
     "data": {
      "image/png": "[encoded data removed]",
      "text/plain": [
       "<Figure size 1000x800 with 1 Axes>"
      ]
     },
     "metadata": {},
     "output_type": "display_data"
    },
    {
     "name": "stdout",
     "output_type": "stream",
     "text": [
      "\u001b[32m.\u001b[0m\u001b[32m                                                                                            [100%]\u001b[0m\n",
      "\u001b[32m\u001b[32m\u001b[1m1 passed\u001b[0m\u001b[32m in 0.09s\u001b[0m\u001b[0m\n"
     ]
    }
   ],
   "source": [
    "%%ipytest\n",
    "\n",
    "from collections import deque\n",
    "\n",
    "\n",
    "def preorder(root):\n",
    "    if not root:\n",
    "        return []\n",
    "    stack = [root]\n",
    "    res = []\n",
    "    while stack:\n",
    "        node = stack.pop()\n",
    "        res.append(node.value)\n",
    "        if node.right:\n",
    "            stack.append(node.right)\n",
    "        if node.left:\n",
    "            stack.append(node.left)\n",
    "    return res\n",
    "\n",
    "\n",
    "def postorder(root):\n",
    "    if not root:\n",
    "        return []\n",
    "    stack = [root]\n",
    "    res = []\n",
    "    while stack:\n",
    "        node = stack.pop()\n",
    "        res.append(node.value)\n",
    "        if node.left:\n",
    "            stack.append(node.left)\n",
    "        if node.right:\n",
    "            stack.append(node.right)\n",
    "    res.reverse()\n",
    "    return res\n",
    "\n",
    "\n",
    "def inorder(root):\n",
    "    curr = root\n",
    "    stack = []\n",
    "    res = []\n",
    "    while curr or stack:\n",
    "        if curr:\n",
    "            stack.append(curr)\n",
    "            curr = curr.left\n",
    "        elif stack:\n",
    "            node = stack.pop()\n",
    "            res.append(node.value)\n",
    "            curr = node.right\n",
    "    return res\n",
    "\n",
    "\n",
    "def tree_bfs(root):\n",
    "    if not root:\n",
    "        return []\n",
    "    queue = deque([root])\n",
    "    res = []\n",
    "    while queue:\n",
    "        node = queue.popleft()\n",
    "        res.append(node.value)\n",
    "        if node.left:\n",
    "            queue.append(node.left)\n",
    "        if node.right:\n",
    "            queue.append(node.right)\n",
    "    return res\n",
    "\n",
    "\n",
    "def test_tree():\n",
    "    root = create_tree([1, 2, 3, 4, 5, 6, 7, 8, 9])\n",
    "    import networkx as nx\n",
    "\n",
    "    plot_tree(root)\n",
    "    assert preorder(root) == [1, 2, 4, 8, 9, 5, 3, 6, 7]\n",
    "    assert inorder(root) == [8, 4, 9, 2, 5, 1, 6, 3, 7]\n",
    "    assert postorder(root) == [8, 9, 4, 5, 2, 6, 7, 3, 1]\n",
    "    assert tree_bfs(root) == [1, 2, 3, 4, 5, 6, 7, 8, 9]"
   ]
  },
  {
   "cell_type": "markdown",
   "metadata": {},
   "source": [
    "### DP on Trees"
   ]
  },
  {
   "cell_type": "code",
   "execution_count": null,
   "metadata": {},
   "outputs": [],
   "source": [
    "import math\n",
    "\n",
    "\n",
    "def is_balance(root):\n",
    "    def dfs(node):\n",
    "        if not node:\n",
    "            return True, 0\n",
    "        is_left_balance, left_height = dfs(node.left)\n",
    "        is_right_balance, right_height = dfs(node.right)\n",
    "        return (\n",
    "            abs(left_height - right_height) <= 1\n",
    "            and is_left_balance\n",
    "            and is_right_balance,\n",
    "            max(left_height, right_height) + 1,\n",
    "        )\n",
    "\n",
    "    return dfs(root)[0]\n",
    "\n",
    "\n",
    "def is_bst(root):\n",
    "    def dfs(node):\n",
    "        if not node:\n",
    "            return True, math.inf, -math.inf\n",
    "        is_left_bst, left_min, left_max = dfs(node.left)\n",
    "        is_right_bst, right_min, right_max = dfs(node.right)\n",
    "        return (\n",
    "            is_left_bst and is_right_bst and left_max < node.value < right_min,\n",
    "            min(node.value, left_min),\n",
    "            max(node.value, right_max),\n",
    "        )\n",
    "\n",
    "    return dfs(root)[0]"
   ]
  },
  {
   "cell_type": "markdown",
   "metadata": {},
   "source": [
    "### LCA(Lowest Common Ancestor)"
   ]
  },
  {
   "cell_type": "code",
   "execution_count": 4,
   "metadata": {
    "scrolled": true
   },
   "outputs": [
    {
     "name": "stdout",
     "output_type": "stream",
     "text": [
      "\u001b[32m.\u001b[0m\u001b[32m                                                                                            [100%]\u001b[0m\n",
      "\u001b[32m\u001b[32m\u001b[1m1 passed\u001b[0m\u001b[32m in 0.00s\u001b[0m\u001b[0m\n"
     ]
    }
   ],
   "source": [
    "%%ipytest\n",
    "\n",
    "\n",
    "def lca(root, node1, node2):\n",
    "    if not root or root == node1 or root == node2:\n",
    "        return root\n",
    "    left = lca(root.left, node1, node2)\n",
    "    right = lca(root.right, node1, node2)\n",
    "    if left and right:\n",
    "        return root\n",
    "    return left if left else right\n",
    "\n",
    "\n",
    "def test_lca():\n",
    "    values = [3, 5, 1, 6, 2, 0, 8, None, None, 7, 4]\n",
    "    root = create_tree(values)\n",
    "\n",
    "    node5 = root.left\n",
    "    node1 = root.right\n",
    "    node6 = node5.left\n",
    "    node2 = node5.right\n",
    "    node7 = node2.left\n",
    "    node4 = node2.right\n",
    "    node0 = root.right.left\n",
    "    node8 = root.right.right\n",
    "\n",
    "    assert lca(root, node5, node1) == root\n",
    "    assert lca(root, node6, node4) == node5\n",
    "    assert lca(root, node7, node4) == node2\n",
    "    assert lca(root, node6, node7) == node5\n",
    "    assert lca(root, node0, node8) == node1\n",
    "    assert lca(root, node5, node5) == node5"
   ]
  },
  {
   "cell_type": "markdown",
   "metadata": {},
   "source": [
    "### Serialization and Deserialization"
   ]
  },
  {
   "cell_type": "code",
   "execution_count": null,
   "metadata": {},
   "outputs": [],
   "source": [
    "from collections import deque\n",
    "\n",
    "\n",
    "def serialize(root):\n",
    "    if not root:\n",
    "        return \"#\"\n",
    "    return str(root.value) + \",\" + serialize(root.left) + \",\" + serialize(root.right)\n",
    "\n",
    "\n",
    "def deserialize(s):\n",
    "    queue = deque(s.split(\",\"))\n",
    "\n",
    "    def build():\n",
    "        if not queue:\n",
    "            return None\n",
    "        v = queue.popleft()\n",
    "        if v == \"#\":\n",
    "            return None\n",
    "        else:\n",
    "            root = BinaryTreeNode(int(v))\n",
    "            root.left = build()\n",
    "            root.right = build()\n",
    "            return root\n",
    "\n",
    "    return build()"
   ]
  },
  {
   "cell_type": "markdown",
   "metadata": {},
   "source": [
    "## Graph"
   ]
  },
  {
   "cell_type": "markdown",
   "metadata": {},
   "source": [
    "### Topological Sort"
   ]
  },
  {
   "cell_type": "code",
   "execution_count": null,
   "metadata": {},
   "outputs": [],
   "source": [
    "from collections import defaultdict, deque\n",
    "\n",
    "\n",
    "def topo_sort(edges, n):\n",
    "    indegree = defaultdict(int)\n",
    "    graph = defaultdict(list)\n",
    "    for u, v in edges:\n",
    "        indegree[v] += 1\n",
    "        graph[u].append(v)\n",
    "    queue = deque()\n",
    "    for u in range(n):\n",
    "        if indegree[u] == 0:\n",
    "            queue.append(u)\n",
    "\n",
    "    res = []\n",
    "    count = 0\n",
    "    while queue:\n",
    "        u = queue.popleft()\n",
    "        res.append(u)\n",
    "        count += 1\n",
    "        for v in graph[u]:\n",
    "            indegree[v] -= 1\n",
    "            if indegree[v] == 0:\n",
    "                queue.append(v)\n",
    "\n",
    "    return res if count == n else None"
   ]
  },
  {
   "cell_type": "markdown",
   "metadata": {},
   "source": [
    "### Union Find"
   ]
  },
  {
   "cell_type": "code",
   "execution_count": 5,
   "metadata": {},
   "outputs": [],
   "source": [
    "class UnionFind:\n",
    "    def __init__(self, n):\n",
    "        self.parents = list(range(n))\n",
    "\n",
    "    def find(self, i):\n",
    "        if self.parents[i] != i:\n",
    "            self.parents[i] = self.find(self.parents[i])\n",
    "        return self.parents[i]\n",
    "\n",
    "    def union(self, i, j):\n",
    "        x = self.find(i)\n",
    "        y = self.find(j)\n",
    "        if x != y:\n",
    "            self.parents[x] = y"
   ]
  },
  {
   "cell_type": "markdown",
   "metadata": {},
   "source": [
    "### MST (Minimum Spanning Tree)"
   ]
  },
  {
   "cell_type": "code",
   "execution_count": null,
   "metadata": {},
   "outputs": [],
   "source": [
    "import heapq\n",
    "from collections import defaultdict\n",
    "\n",
    "\n",
    "def kruskal(edges, n):\n",
    "    edges.sort(key=lambda e: e[2])\n",
    "    total_weight = 0\n",
    "    mst_edges = []\n",
    "    uf = UnionFind(n)\n",
    "    for u, v, w in edges:\n",
    "        if uf.find(u) != uf.find(v):\n",
    "            total_weight += w\n",
    "            mst_edges.append((u, v, w))\n",
    "            uf.union(u, v)\n",
    "        if len(mst_edges) == n - 1:\n",
    "            break\n",
    "    if len(mst_edges) < n - 1:\n",
    "        return None\n",
    "    return total_weight, mst_edges\n",
    "\n",
    "\n",
    "def prim(edges, n):\n",
    "    graph = defaultdict(list)\n",
    "    for u, v, w in edges:\n",
    "        graph[u].append((v, w))\n",
    "        graph[v].append((u, w))\n",
    "    heap = []\n",
    "    for v, w in graph[0]:\n",
    "        heapq.heappush(heap, (w, 0, v))\n",
    "    visited = [False] * n\n",
    "    visited[0] = True\n",
    "\n",
    "    total_weight = 0\n",
    "    mst_edges = []\n",
    "    while heap:\n",
    "        w, u, v = heapq.heappop(heap)\n",
    "        if not visited[v]:\n",
    "            total_weight += w\n",
    "            mst_edges.append((u, v, w))\n",
    "            visited[v] = True\n",
    "            if len(mst_edges) == n - 1:\n",
    "                break\n",
    "            for vv, ww in graph[v]:\n",
    "                if not visited[vv]:\n",
    "                    heapq.heappush(heap, (ww, v, vv))\n",
    "    if len(mst_edges) != n - 1:\n",
    "        return None\n",
    "    return total_weight, mst_edges"
   ]
  },
  {
   "cell_type": "markdown",
   "metadata": {},
   "source": [
    "### Dijkstra's Algorithm"
   ]
  },
  {
   "cell_type": "code",
   "execution_count": null,
   "metadata": {},
   "outputs": [],
   "source": [
    "import heapq\n",
    "import math\n",
    "from collections import defaultdict\n",
    "\n",
    "\n",
    "def dijkstra(edges, n, start):\n",
    "    graph = defaultdict(list)\n",
    "    for u, v, w in edges:\n",
    "        graph[u].append((v, w))\n",
    "        graph[v].append((u, w))\n",
    "    distances = [math.inf] * n\n",
    "    distances[start] = 0\n",
    "    heap = [(0, start)]\n",
    "\n",
    "    while heap:\n",
    "        d, u = heapq.heappop(heap)\n",
    "        if d > distances[u]:\n",
    "            continue\n",
    "        for v, w in graph[u]:\n",
    "            if d + w < distances[v]:\n",
    "                distances[v] = d + w\n",
    "                heapq.heappush(heap, (distances[v], v))\n",
    "    return distances"
   ]
  },
  {
   "cell_type": "markdown",
   "metadata": {},
   "source": [
    "## Trie"
   ]
  },
  {
   "cell_type": "code",
   "execution_count": 11,
   "metadata": {},
   "outputs": [
    {
     "name": "stdout",
     "output_type": "stream",
     "text": [
      "\u001b[32m.\u001b[0m\u001b[32m                                                                                            [100%]\u001b[0m\n",
      "\u001b[32m\u001b[32m\u001b[1m1 passed\u001b[0m\u001b[32m in 0.00s\u001b[0m\u001b[0m\n"
     ]
    }
   ],
   "source": [
    "%%ipytest\n",
    "\n",
    "\n",
    "class Trie:\n",
    "    class TrieNode:\n",
    "        def __init__(self):\n",
    "            self.children = {}\n",
    "            self.pass_count = 0\n",
    "            self.end_count = 0\n",
    "\n",
    "    def __init__(self):\n",
    "        self.root = Trie.TrieNode()\n",
    "\n",
    "    def insert(self, word):\n",
    "        p = self.root\n",
    "        p.pass_count += 1\n",
    "        for c in word:\n",
    "            if c not in p.children:\n",
    "                p.children[c] = Trie.TrieNode()\n",
    "            p = p.children[c]\n",
    "            p.pass_count += 1\n",
    "        p.end_count += 1\n",
    "\n",
    "    def has(self, word):\n",
    "        p = self.root\n",
    "        for c in word:\n",
    "            if c not in p.children:\n",
    "                return False\n",
    "            p = p.children[c]\n",
    "        return p.end_count > 0\n",
    "\n",
    "    def has_prefix(self, prefix):\n",
    "        p = self.root\n",
    "        for c in prefix:\n",
    "            if c not in p.children:\n",
    "                return False\n",
    "            p = p.children[c]\n",
    "        return True\n",
    "\n",
    "    def delete(self, word):\n",
    "        if not self.has(word):\n",
    "            return\n",
    "        p = self.root\n",
    "        p.pass_count -= 1\n",
    "        if p.pass_count == 0:\n",
    "            p.children.clear()\n",
    "            return\n",
    "        for c in word:\n",
    "            p.children[c].pass_count -= 1\n",
    "            if p.children[c].pass_count == 0:\n",
    "                del p.children[c]\n",
    "                return\n",
    "            p = p.children[c]\n",
    "        p.end_count -= 1\n",
    "\n",
    "\n",
    "def test_trie():\n",
    "    t = Trie()\n",
    "    t.insert(\"hello\")\n",
    "    t.insert(\"help\")\n",
    "    t.delete(\"hello\")\n",
    "\n",
    "    assert not t.has(\"hello\")\n",
    "    assert t.has(\"help\")"
   ]
  },
  {
   "cell_type": "markdown",
   "metadata": {},
   "source": [
    "## Greedy"
   ]
  },
  {
   "cell_type": "markdown",
   "metadata": {},
   "source": [
    "## Backtrack"
   ]
  },
  {
   "cell_type": "markdown",
   "metadata": {},
   "source": [
    "### N-Queen"
   ]
  },
  {
   "cell_type": "code",
   "execution_count": 28,
   "metadata": {},
   "outputs": [
    {
     "name": "stdout",
     "output_type": "stream",
     "text": [
      "\u001b[32m.\u001b[0m\u001b[32m                                                                                            [100%]\u001b[0m\n",
      "\u001b[32m\u001b[32m\u001b[1m1 passed\u001b[0m\u001b[32m in 0.00s\u001b[0m\u001b[0m\n"
     ]
    }
   ],
   "source": [
    "%%ipytest\n",
    "\n",
    "\n",
    "def n_queen(n):\n",
    "    def dfs(mask, cols, left_diags, right_diags):\n",
    "        if cols == mask:\n",
    "            return 1\n",
    "        count = 0\n",
    "        pos = mask & (~(cols | left_diags | right_diags))\n",
    "        while pos:\n",
    "            right_most = pos & -pos\n",
    "            count += dfs(\n",
    "                mask,\n",
    "                cols | right_most,\n",
    "                (left_diags | right_most) << 1,\n",
    "                (right_diags | right_most) >> 1,\n",
    "            )\n",
    "            pos -= right_most\n",
    "        return count\n",
    "\n",
    "    return dfs((1 << n) - 1, 0, 0, 0)\n",
    "\n",
    "\n",
    "def test_n_queue():\n",
    "    assert n_queen(3) == 0\n",
    "    assert n_queen(8) == 92"
   ]
  },
  {
   "cell_type": "markdown",
   "metadata": {},
   "source": [
    "### Subsets"
   ]
  },
  {
   "cell_type": "code",
   "execution_count": 31,
   "metadata": {},
   "outputs": [
    {
     "name": "stdout",
     "output_type": "stream",
     "text": [
      "\u001b[32m.\u001b[0m\u001b[32m                                                                                            [100%]\u001b[0m\n",
      "\u001b[32m\u001b[32m\u001b[1m1 passed\u001b[0m\u001b[32m in 0.00s\u001b[0m\u001b[0m\n"
     ]
    }
   ],
   "source": [
    "%%ipytest\n",
    "\n",
    "\n",
    "def find_subsets(arr):\n",
    "    res = []\n",
    "\n",
    "    def dfs(i, path=[]):\n",
    "        if i == len(arr):\n",
    "            res.append(path[:])\n",
    "            return\n",
    "        path.append(arr[i])\n",
    "        dfs(i + 1, path)\n",
    "        path.pop()\n",
    "        dfs(i + 1, path)\n",
    "\n",
    "    dfs(0)\n",
    "    return res\n",
    "\n",
    "\n",
    "def test_find_subsets():\n",
    "    assert find_subsets([1, 2, 3]) == [\n",
    "        [1, 2, 3],\n",
    "        [1, 2],\n",
    "        [1, 3],\n",
    "        [1],\n",
    "        [2, 3],\n",
    "        [2],\n",
    "        [3],\n",
    "        [],\n",
    "    ]"
   ]
  },
  {
   "cell_type": "markdown",
   "metadata": {},
   "source": [
    "### Permutations"
   ]
  },
  {
   "cell_type": "code",
   "execution_count": 47,
   "metadata": {},
   "outputs": [
    {
     "name": "stdout",
     "output_type": "stream",
     "text": [
      "\u001b[32m.\u001b[0m\u001b[32m                                                                                            [100%]\u001b[0m\n",
      "\u001b[32m\u001b[32m\u001b[1m1 passed\u001b[0m\u001b[32m in 0.00s\u001b[0m\u001b[0m\n"
     ]
    }
   ],
   "source": [
    "%%ipytest\n",
    "\n",
    "\n",
    "def find_permutations(arr):\n",
    "    res = []\n",
    "\n",
    "    def dfs(i):\n",
    "        if i == len(arr):\n",
    "            res.append(arr[:])\n",
    "        for j in range(i, len(arr)):\n",
    "            arr[i], arr[j] = arr[j], arr[i]\n",
    "            dfs(i + 1)\n",
    "            arr[i], arr[j] = arr[j], arr[i]\n",
    "\n",
    "    dfs(0)\n",
    "    return res\n",
    "\n",
    "\n",
    "def test_find_permutations():\n",
    "    assert find_permutations([1, 2, 3]) == [\n",
    "        [1, 2, 3],\n",
    "        [1, 3, 2],\n",
    "        [2, 1, 3],\n",
    "        [2, 3, 1],\n",
    "        [3, 2, 1],\n",
    "        [3, 1, 2],\n",
    "    ]"
   ]
  },
  {
   "cell_type": "markdown",
   "metadata": {},
   "source": [
    "## Dynamic Programming"
   ]
  },
  {
   "cell_type": "code",
   "execution_count": 62,
   "metadata": {},
   "outputs": [
    {
     "name": "stdout",
     "output_type": "stream",
     "text": [
      "\u001b[32m.\u001b[0m\u001b[32m                                                                                            [100%]\u001b[0m\n",
      "\u001b[32m\u001b[32m\u001b[1m1 passed\u001b[0m\u001b[32m in 0.01s\u001b[0m\u001b[0m\n"
     ]
    }
   ],
   "source": [
    "%%ipytest\n",
    "\n",
    "\n",
    "def knapsack(weight_limit, weights, profits):\n",
    "    n = len(weights)\n",
    "    dp = [[0] * (weight_limit + 1) for _ in range(n + 1)]\n",
    "    for i in range(n - 1, -1, -1):\n",
    "        for j in range(weight_limit + 1):\n",
    "            dp[i][j] = dp[i + 1][j]\n",
    "            if weights[i] <= j:\n",
    "                dp[i][j] = max(dp[i][j], dp[i + 1][j - weights[i]] + profits[i])\n",
    "\n",
    "    return dp[0][weight_limit]\n",
    "\n",
    "\n",
    "def test_knapsack():\n",
    "    assert knapsack(4, [4, 5, 1], [1, 2, 3]) == 3"
   ]
  }
 ],
 "metadata": {
  "kernelspec": {
   "display_name": "Python 3 (ipykernel)",
   "language": "python",
   "name": "python3"
  },
  "language_info": {
   "codemirror_mode": {
    "name": "ipython",
    "version": 3
   },
   "file_extension": ".py",
   "mimetype": "text/x-python",
   "name": "python",
   "nbconvert_exporter": "python",
   "pygments_lexer": "ipython3",
   "version": "3.13.0"
  }
 },
 "nbformat": 4,
 "nbformat_minor": 4
}
